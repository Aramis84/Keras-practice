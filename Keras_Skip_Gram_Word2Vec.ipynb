{
  "nbformat": 4,
  "nbformat_minor": 0,
  "metadata": {
    "colab": {
      "name": "Keras_Skip_Gram_Word2Vec.ipynb",
      "provenance": [],
      "collapsed_sections": [],
      "authorship_tag": "ABX9TyMGwfxrbGqIin+o3PpbUhbM",
      "include_colab_link": true
    },
    "kernelspec": {
      "name": "python3",
      "display_name": "Python 3"
    },
    "accelerator": "GPU"
  },
  "cells": [
    {
      "cell_type": "markdown",
      "metadata": {
        "id": "view-in-github",
        "colab_type": "text"
      },
      "source": [
        "<a href=\"https://colab.research.google.com/github/Aramis84/Keras-practice/blob/master/Keras_Skip_Gram_Word2Vec.ipynb\" target=\"_parent\"><img src=\"https://colab.research.google.com/assets/colab-badge.svg\" alt=\"Open In Colab\"/></a>"
      ]
    },
    {
      "cell_type": "code",
      "metadata": {
        "id": "pfgm2ety0S3g"
      },
      "source": [
        "from google.colab import drive"
      ],
      "execution_count": 1,
      "outputs": []
    },
    {
      "cell_type": "code",
      "metadata": {
        "colab": {
          "base_uri": "https://localhost:8080/"
        },
        "id": "5Y8DVgeB0tI7",
        "outputId": "a03b531a-b45e-492b-80f9-1e3eae6fd3b0"
      },
      "source": [
        "drive.mount('/content/gdrive')"
      ],
      "execution_count": 2,
      "outputs": [
        {
          "output_type": "stream",
          "text": [
            "Drive already mounted at /content/gdrive; to attempt to forcibly remount, call drive.mount(\"/content/gdrive\", force_remount=True).\n"
          ],
          "name": "stdout"
        }
      ]
    },
    {
      "cell_type": "code",
      "metadata": {
        "colab": {
          "base_uri": "https://localhost:8080/"
        },
        "id": "P6PgacLO1MS0",
        "outputId": "7df320d3-b0f4-4884-84ab-f75086b38f9b"
      },
      "source": [
        "!ls '/content/gdrive/MyDrive/Colab_Work/Colab Notebooks/'"
      ],
      "execution_count": 3,
      "outputs": [
        {
          "output_type": "stream",
          "text": [
            "Trial_1.ipynb\n"
          ],
          "name": "stdout"
        }
      ]
    },
    {
      "cell_type": "code",
      "metadata": {
        "id": "b0N2h1Mw1pGa"
      },
      "source": [
        "import keras \r\n",
        "from keras.datasets import imdb\r\n",
        "from keras.preprocessing import text\r\n",
        "\r\n",
        "from keras_preprocessing.sequence import pad_sequences\r\n",
        "from keras.models import Model\r\n",
        "from keras import optimizers\r\n",
        "from keras.layers import Input, Dense, Reshape, dot, Embedding, Dot, Dropout\r\n",
        "from keras.preprocessing.sequence import skipgrams\r\n",
        "from keras.preprocessing.sequence import make_sampling_table\r\n",
        "from keras.layers import Embedding\r\n",
        "from keras.callbacks import ModelCheckpoint\r\n",
        "from keras.utils.vis_utils import plot_model\r\n",
        "import os\r\n",
        "from tqdm import tqdm\r\n",
        "from sklearn.metrics import roc_auc_score, roc_curve\r\n",
        "import pandas as pd\r\n",
        "import numpy as np\r\n",
        "import matplotlib.pyplot as plt\r\n",
        "%matplotlib inline"
      ],
      "execution_count": 4,
      "outputs": []
    },
    {
      "cell_type": "code",
      "metadata": {
        "colab": {
          "base_uri": "https://localhost:8080/"
        },
        "id": "o5NetIAN26t0",
        "outputId": "a122f8f6-d931-464f-f190-e1d0d7a071d0"
      },
      "source": [
        "import nltk\r\n",
        "from nltk import word_tokenize, sent_tokenize\r\n",
        "from nltk.corpus import stopwords\r\n",
        "from nltk.stem.porter import *\r\n",
        "nltk.download('gutenberg')\r\n",
        "nltk.download('punkt')\r\n",
        "nltk.download('stopwords')\r\n",
        "import string\r\n",
        "\r\n",
        "import gensim\r\n",
        "from gensim.models.phrases import Phraser, Phrases"
      ],
      "execution_count": 5,
      "outputs": [
        {
          "output_type": "stream",
          "text": [
            "[nltk_data] Downloading package gutenberg to /root/nltk_data...\n",
            "[nltk_data]   Package gutenberg is already up-to-date!\n",
            "[nltk_data] Downloading package punkt to /root/nltk_data...\n",
            "[nltk_data]   Package punkt is already up-to-date!\n",
            "[nltk_data] Downloading package stopwords to /root/nltk_data...\n",
            "[nltk_data]   Package stopwords is already up-to-date!\n"
          ],
          "name": "stdout"
        }
      ]
    },
    {
      "cell_type": "code",
      "metadata": {
        "id": "87EjtgPBAX6_"
      },
      "source": [
        "from nltk.corpus import gutenberg"
      ],
      "execution_count": 6,
      "outputs": []
    },
    {
      "cell_type": "markdown",
      "metadata": {
        "id": "AKZc1GVzBmGO"
      },
      "source": [
        "### Sentence tokenization of the corpus"
      ]
    },
    {
      "cell_type": "markdown",
      "metadata": {
        "id": "aBTa6rQiA9VZ"
      },
      "source": [
        ""
      ]
    },
    {
      "cell_type": "code",
      "metadata": {
        "colab": {
          "base_uri": "https://localhost:8080/"
        },
        "id": "hwHyqKK5AdZD",
        "outputId": "8cd56726-81a3-471f-baed-ecafef1da4b6"
      },
      "source": [
        "sent_tokens = gutenberg.sents()\r\n",
        "type(sent_tokens)"
      ],
      "execution_count": 7,
      "outputs": [
        {
          "output_type": "execute_result",
          "data": {
            "text/plain": [
              "nltk.corpus.reader.util.ConcatenatedCorpusView"
            ]
          },
          "metadata": {
            "tags": []
          },
          "execution_count": 7
        }
      ]
    },
    {
      "cell_type": "markdown",
      "metadata": {
        "id": "F0i7ypeNBsC_"
      },
      "source": [
        "### Pre-Processing"
      ]
    },
    {
      "cell_type": "code",
      "metadata": {
        "id": "lStDoeROCONN"
      },
      "source": [
        "def pre_process(data, lower_case_flag = True, stop_wrds_flag = True, custom_stop_wrds = None, stemming_flag = False, bigrams_flag = True, min_count = 32, threshold = 64):\r\n",
        "  sent_list = []\r\n",
        "  if stop_wrds_flag:\r\n",
        "      stopwrds = stopwords.words('english') + list(string.punctuation)\r\n",
        "      if custom_stop_wrds is not None:\r\n",
        "        stopwrds += custom_stop_wrds\r\n",
        "  else:\r\n",
        "    if custom_stop_wrds is not None:\r\n",
        "      stopwrds = custom_stop_wrds + list(string.punctuation)\r\n",
        "    else:\r\n",
        "      stopwrds = list(string.punctuation)\r\n",
        "\r\n",
        "  if lower_case_flag:\r\n",
        "    for s in data:\r\n",
        "      sent_list.append([w.lower() for w in s if w.lower() not in stopwrds])\r\n",
        "  else:\r\n",
        "    for s in data:\r\n",
        "      sent_list.append([w for w in s if w.lower() not in stopwrds])\r\n",
        "\r\n",
        "  if stemming_flag:\r\n",
        "    stemmer = PorterStemmer()\r\n",
        "    sent_list_stem = []\r\n",
        "    for s in sent_list:\r\n",
        "      sent_list_stem.append([stemmer.stem(w.lower()) for w in s])\r\n",
        "    sent_list = sent_list_stem\r\n",
        "\r\n",
        "  if bigrams_flag:\r\n",
        "    bigrams_obj = Phraser(Phrases(sent_list, min_count = min_count, threshold = threshold))\r\n",
        "  \r\n",
        "  clean_sent = []\r\n",
        "  for s in sent_list:\r\n",
        "    clean_sent.append(bigrams_obj[s])\r\n",
        "\r\n",
        "\r\n",
        "  return clean_sent"
      ],
      "execution_count": 8,
      "outputs": []
    },
    {
      "cell_type": "code",
      "metadata": {
        "id": "z-4E-DfDGpht"
      },
      "source": [
        "clean_sent = pre_process(sent_tokens, stemming_flag = False)"
      ],
      "execution_count": 9,
      "outputs": []
    },
    {
      "cell_type": "code",
      "metadata": {
        "colab": {
          "base_uri": "https://localhost:8080/"
        },
        "id": "7hczdiMmB8Ck",
        "outputId": "eece28fc-8d5b-4462-c43b-303e4531f8c3"
      },
      "source": [
        "type(clean_sent), len(clean_sent)"
      ],
      "execution_count": 10,
      "outputs": [
        {
          "output_type": "execute_result",
          "data": {
            "text/plain": [
              "(list, 98552)"
            ]
          },
          "metadata": {
            "tags": []
          },
          "execution_count": 10
        }
      ]
    },
    {
      "cell_type": "code",
      "metadata": {
        "colab": {
          "base_uri": "https://localhost:8080/"
        },
        "id": "NWGXJgzYHfhe",
        "outputId": "48afa463-bc16-48a1-ab4e-c278e5c506f8"
      },
      "source": [
        "# All vocab size\r\n",
        "all_vocab = []\r\n",
        "for s in clean_sent:\r\n",
        "  all_vocab += s\r\n",
        "len(set(all_vocab))"
      ],
      "execution_count": 11,
      "outputs": [
        {
          "output_type": "execute_result",
          "data": {
            "text/plain": [
              "42252"
            ]
          },
          "metadata": {
            "tags": []
          },
          "execution_count": 11
        }
      ]
    },
    {
      "cell_type": "markdown",
      "metadata": {
        "id": "D1I16-wwKO6P"
      },
      "source": [
        "### Word2Vec Model"
      ]
    },
    {
      "cell_type": "code",
      "metadata": {
        "id": "iHCt-bU_RlOA"
      },
      "source": [
        "# Hyper-params\r\n",
        "window_size = 9\r\n",
        "vocab_size = 5000 # vocabulary size\r\n",
        "embed_vect_dim = 96\r\n",
        "n_dense = 32\r\n",
        "dropout_rate = 0.3\r\n",
        "epochs = 4\r\n"
      ],
      "execution_count": 12,
      "outputs": []
    },
    {
      "cell_type": "code",
      "metadata": {
        "id": "-uHYpqs0KR_G"
      },
      "source": [
        "def extract_text_mapping(list_of_texts, vocab_size = 10000):\r\n",
        "    '''Should count number of times a word occurs in the vocabulary, assign integers to each word, \r\n",
        "    dictionary mapping between words and integers and reverse dictionary'''\r\n",
        "    \r\n",
        "    # Removing special characters and numbers from tokens\r\n",
        "    filters = '!\"#$%&()*+,-./:;<=>?@[\\\\]^_`{|}~\\t\\n' + '0123456789'\r\n",
        "    tokenizer = text.Tokenizer(num_words = vocab_size, filters = filters)\r\n",
        "    \r\n",
        "    tokenizer.fit_on_texts(list_of_texts)\r\n",
        "        \r\n",
        "    word_to_int_dict = tokenizer.word_index\r\n",
        "    int_to_word_dict = {}\r\n",
        "    int_to_word_dict = {val:key for key, val in word_to_int_dict.items()}\r\n",
        "    data_in_int = tokenizer.texts_to_sequences(list_of_texts)\r\n",
        "            \r\n",
        "    word_to_int_dict['oov'] = 0\r\n",
        "    int_to_word_dict[0] = 'oov'\r\n",
        "    \r\n",
        "    assert len(data_in_int) == len(list_of_texts), 'Length of data in integers do not match number \\\r\n",
        "    of original texts'\r\n",
        "    return data_in_int, list_of_texts, word_to_int_dict, int_to_word_dict"
      ],
      "execution_count": 13,
      "outputs": []
    },
    {
      "cell_type": "code",
      "metadata": {
        "colab": {
          "base_uri": "https://localhost:8080/"
        },
        "id": "4LoUqx3hMDq3",
        "outputId": "35bb288d-868b-46ad-c0e8-ca6c50134f13"
      },
      "source": [
        "data_in_int, text_list, wi_dict, iw_dict = extract_text_mapping(clean_sent, vocab_size = vocab_size)\r\n",
        "len(iw_dict), len(wi_dict), len(data_in_int), len(text_list)"
      ],
      "execution_count": 14,
      "outputs": [
        {
          "output_type": "execute_result",
          "data": {
            "text/plain": [
              "(42253, 42253, 98552, 98552)"
            ]
          },
          "metadata": {
            "tags": []
          },
          "execution_count": 14
        }
      ]
    },
    {
      "cell_type": "markdown",
      "metadata": {
        "id": "LvDiFQM4MkPP"
      },
      "source": [
        "### Set up the the NN architecture"
      ]
    },
    {
      "cell_type": "code",
      "metadata": {
        "colab": {
          "base_uri": "https://localhost:8080/"
        },
        "id": "oi51Nv_JMn_B",
        "outputId": "b67d055a-d3df-4c94-f1f0-f49bad7e99e2"
      },
      "source": [
        "\r\n",
        "sampling_table = make_sampling_table(vocab_size, sampling_factor = 0.1)\r\n",
        "len(sampling_table)"
      ],
      "execution_count": 15,
      "outputs": [
        {
          "output_type": "execute_result",
          "data": {
            "text/plain": [
              "5000"
            ]
          },
          "metadata": {
            "tags": []
          },
          "execution_count": 15
        }
      ]
    },
    {
      "cell_type": "code",
      "metadata": {
        "id": "5gezXoCFNSGA"
      },
      "source": [
        "skip_grams = [skipgrams(s, vocabulary_size = vocab_size, window_size = window_size, negative_samples = 1., sampling_table = sampling_table) for s in data_in_int if len(s) >= window_size]\r\n",
        "                "
      ],
      "execution_count": 16,
      "outputs": []
    },
    {
      "cell_type": "code",
      "metadata": {
        "colab": {
          "base_uri": "https://localhost:8080/"
        },
        "id": "ytQdF__9OdGA",
        "outputId": "b34f7de8-97bb-4348-a13d-f10786f59582"
      },
      "source": [
        "len(skip_grams)"
      ],
      "execution_count": 17,
      "outputs": [
        {
          "output_type": "execute_result",
          "data": {
            "text/plain": [
              "43664"
            ]
          },
          "metadata": {
            "tags": []
          },
          "execution_count": 17
        }
      ]
    },
    {
      "cell_type": "code",
      "metadata": {
        "colab": {
          "base_uri": "https://localhost:8080/"
        },
        "id": "54d3dAaWOyNv",
        "outputId": "7a560d06-8f6f-48aa-f96c-61a99da5d8c4"
      },
      "source": [
        "type(skip_grams[0]), len(skip_grams[0])"
      ],
      "execution_count": 18,
      "outputs": [
        {
          "output_type": "execute_result",
          "data": {
            "text/plain": [
              "(tuple, 2)"
            ]
          },
          "metadata": {
            "tags": []
          },
          "execution_count": 18
        }
      ]
    },
    {
      "cell_type": "code",
      "metadata": {
        "colab": {
          "base_uri": "https://localhost:8080/"
        },
        "id": "GIat0X9GPkYo",
        "outputId": "4879995b-8293-42b5-af1b-a63f91a0282a"
      },
      "source": [
        "input_length = 1\r\n",
        "embed_layer = Embedding(input_dim = vocab_size, output_dim = embed_vect_dim, input_length = input_length)\r\n",
        "\r\n",
        "target_ip = Input((1,)) # Sending in a single integer for the target word\r\n",
        "context_ip = Input((1,)) # Sending in a single integer for the context word\r\n",
        "\r\n",
        "# Get the Keras tensors \r\n",
        "target_tensor = embed_layer(target_ip)\r\n",
        "target_tensor_reshaped = Reshape((embed_vect_dim, 1))(target_tensor) # Reshaping to a column vector\r\n",
        "\r\n",
        "context_tensor = embed_layer(context_ip)\r\n",
        "context_tensor_reshaped = Reshape((embed_vect_dim, 1))(context_tensor) # Reshaping to a column vector\r\n",
        "\r\n",
        "cos_sim = Dot(axes = 1, normalize = True)([target_tensor_reshaped, context_tensor_reshaped])\r\n",
        "cos_sim_num = Dot(axes = 1, normalize = False)([target_tensor_reshaped, context_tensor_reshaped])\r\n",
        "cos_sim, cos_sim_num"
      ],
      "execution_count": 19,
      "outputs": [
        {
          "output_type": "execute_result",
          "data": {
            "text/plain": [
              "(<KerasTensor: shape=(None, 1, 1) dtype=float32 (created by layer 'dot')>,\n",
              " <KerasTensor: shape=(None, 1, 1) dtype=float32 (created by layer 'dot_1')>)"
            ]
          },
          "metadata": {
            "tags": []
          },
          "execution_count": 19
        }
      ]
    },
    {
      "cell_type": "code",
      "metadata": {
        "colab": {
          "base_uri": "https://localhost:8080/"
        },
        "id": "xwq7mpq2VVzC",
        "outputId": "36301826-cfd0-4d92-926b-f51f46f0106e"
      },
      "source": [
        "cos_sim_reshaped = Reshape((1,))(cos_sim_num) # Single scalar\r\n",
        "\r\n",
        "# Sigmoid output layer\r\n",
        "dense_layer = Dense(n_dense, activation = 'relu')(cos_sim_reshaped)\r\n",
        "dropout_layer = Dropout(rate = dropout_rate)(dense_layer)\r\n",
        "output = Dense(1, activation = 'sigmoid')(dropout_layer)\r\n",
        "\r\n",
        "model = Model(inputs = [target_ip, context_ip], outputs = output)\r\n",
        "ada = optimizers.Adam()\r\n",
        "model.compile(loss = 'binary_crossentropy', optimizer= ada)\r\n",
        "print(model.summary())"
      ],
      "execution_count": 20,
      "outputs": [
        {
          "output_type": "stream",
          "text": [
            "Model: \"model\"\n",
            "__________________________________________________________________________________________________\n",
            "Layer (type)                    Output Shape         Param #     Connected to                     \n",
            "==================================================================================================\n",
            "input_1 (InputLayer)            [(None, 1)]          0                                            \n",
            "__________________________________________________________________________________________________\n",
            "input_2 (InputLayer)            [(None, 1)]          0                                            \n",
            "__________________________________________________________________________________________________\n",
            "embedding (Embedding)           (None, 1, 96)        480000      input_1[0][0]                    \n",
            "                                                                 input_2[0][0]                    \n",
            "__________________________________________________________________________________________________\n",
            "reshape (Reshape)               (None, 96, 1)        0           embedding[0][0]                  \n",
            "__________________________________________________________________________________________________\n",
            "reshape_1 (Reshape)             (None, 96, 1)        0           embedding[1][0]                  \n",
            "__________________________________________________________________________________________________\n",
            "dot_1 (Dot)                     (None, 1, 1)         0           reshape[0][0]                    \n",
            "                                                                 reshape_1[0][0]                  \n",
            "__________________________________________________________________________________________________\n",
            "reshape_2 (Reshape)             (None, 1)            0           dot_1[0][0]                      \n",
            "__________________________________________________________________________________________________\n",
            "dense (Dense)                   (None, 32)           64          reshape_2[0][0]                  \n",
            "__________________________________________________________________________________________________\n",
            "dropout (Dropout)               (None, 32)           0           dense[0][0]                      \n",
            "__________________________________________________________________________________________________\n",
            "dense_1 (Dense)                 (None, 1)            33          dropout[0][0]                    \n",
            "==================================================================================================\n",
            "Total params: 480,097\n",
            "Trainable params: 480,097\n",
            "Non-trainable params: 0\n",
            "__________________________________________________________________________________________________\n",
            "None\n"
          ],
          "name": "stdout"
        }
      ]
    },
    {
      "cell_type": "code",
      "metadata": {
        "id": "F-gXVfRyVLG-"
      },
      "source": [
        "# Model that takes in target and context word indices and outputs the cosine similarity.\r\n",
        "# This model is not trained, No need to compile\r\n",
        "check_model = Model(inputs = [target_ip, context_ip], outputs = cos_sim)"
      ],
      "execution_count": 21,
      "outputs": []
    },
    {
      "cell_type": "code",
      "metadata": {
        "colab": {
          "base_uri": "https://localhost:8080/",
          "height": 865
        },
        "id": "_nuVZwIbTDAp",
        "outputId": "50d19088-32dc-441e-e26b-cae3b4083104"
      },
      "source": [
        "plot_model(model, show_shapes = True, show_layer_names = True)"
      ],
      "execution_count": 22,
      "outputs": [
        {
          "output_type": "execute_result",
          "data": {
            "image/png": "[encoded data removed]",
            "text/plain": [
              "<IPython.core.display.Image object>"
            ]
          },
          "metadata": {
            "tags": []
          },
          "execution_count": 22
        }
      ]
    },
    {
      "cell_type": "code",
      "metadata": {
        "id": "QxkSgNO5QxPC"
      },
      "source": [
        "class WordSimCallBack(keras.callbacks.Callback):\r\n",
        "    \r\n",
        "    def __init__(self, top_n = 5):\r\n",
        "        self.top_n = top_n\r\n",
        "    \r\n",
        "    def top_sim_words(self):\r\n",
        "        all_sim  = np.zeros((vocab_size))\r\n",
        "        target_index = np.zeros((1,))\r\n",
        "        context_index = np.zeros((1,))\r\n",
        "         \r\n",
        "        for ii in valid_examples:\r\n",
        "        \r\n",
        "            target_index[0,] = ii\r\n",
        "\r\n",
        "            for kk in range(vocab_size):\r\n",
        "                context_index[0,] = kk\r\n",
        "                all_sim[kk] = check_model.predict_on_batch([target_index, context_index])\r\n",
        "\r\n",
        "            # Sorting in ascending order and taking the last top_n ones\r\n",
        "            closest_sim_words = all_sim.argsort()[::-1]# These are the integer indices\r\n",
        "\r\n",
        "            # Getting the words corresponding to the integer indices\r\n",
        "            closest_words_list = []\r\n",
        "            \r\n",
        "            cc = 0\r\n",
        "            for jj in closest_sim_words[1:]:\r\n",
        "                if cc <= self.top_n:\r\n",
        "                    word = iw_dict[jj]\r\n",
        "                    if (word not in stopwords.words('english')) and (len(word) > 2):\r\n",
        "                        closest_words_list.append(word)\r\n",
        "                        cc += 1\r\n",
        "       \r\n",
        "            print('Target word : {} -> {}'.format(iw_dict[ii], closest_words_list))\r\n",
        "\r\n",
        "\r\n",
        "interested_words = ['mother', 'husband', 'dog', 'morning', 'love']\r\n",
        "valid_examples = [wi_dict[word] for word in interested_words]\r\n",
        "cb = WordSimCallBack()"
      ],
      "execution_count": 23,
      "outputs": []
    },
    {
      "cell_type": "markdown",
      "metadata": {
        "id": "LaXW6YSsa95k"
      },
      "source": [
        "### Training"
      ]
    },
    {
      "cell_type": "code",
      "metadata": {
        "colab": {
          "base_uri": "https://localhost:8080/"
        },
        "id": "EG3aaGlsa--C",
        "outputId": "7f1c7c33-8cf8-4614-c3c3-6a4450640337"
      },
      "source": [
        "for e in range(epochs):\r\n",
        "    epoch_loss = 0\r\n",
        "    for ind, val in enumerate(tqdm(skip_grams)):\r\n",
        "\r\n",
        "        target_word = np.array(list(zip(*val[0]))[0], dtype = 'int32')\r\n",
        "        context_word = np.array(list(zip(*val[0]))[1], dtype = 'int32')\r\n",
        "        labels = np.array(val[1], dtype = 'int32')\r\n",
        "        X = [target_word, context_word] # batch shape (None, 1) for each target and context\r\n",
        "        epoch_loss += model.train_on_batch(X, labels)\r\n",
        "    \r\n",
        "    print('After epoch {}/{} -> loss = {}'.format(e+1, epochs, epoch_loss))\r\n",
        "    cb.top_sim_words()\r\n",
        "    \r\n",
        "    # wts = model.get_weights()[0]\r\n",
        "    # iw_dict_vocab = dict(itertools.islice(iw_dict.items(), vocab_size))\r\n",
        "    # df_wts = pd.DataFrame(wts, index = iw_dict_vocab.values())\r\n",
        "    # df_wts.to_csv('df'+ file_name, header = False, index = True)\r\n",
        "    # savetxt('just' + file_name, wts, delimiter = ',')\r\n",
        "    print('Embeddings saved post epoch {}'.format(e+1))\r\n",
        "    print('+++++++++++++++++++++++++++++++++++')"
      ],
      "execution_count": null,
      "outputs": [
        {
          "output_type": "stream",
          "text": [
            "100%|██████████| 43664/43664 [07:45<00:00, 93.73it/s]\n"
          ],
          "name": "stderr"
        },
        {
          "output_type": "stream",
          "text": [
            "After epoch 1/4 -> loss = 22613.532455682755\n"
          ],
          "name": "stdout"
        }
      ]
    },
    {
      "cell_type": "code",
      "metadata": {
        "id": "hpeXW3JHdSGb"
      },
      "source": [
        ""
      ],
      "execution_count": null,
      "outputs": []
    }
  ]
}